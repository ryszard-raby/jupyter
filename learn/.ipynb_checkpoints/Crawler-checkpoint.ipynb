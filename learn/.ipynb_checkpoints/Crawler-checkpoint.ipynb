{
 "cells": [
  {
   "cell_type": "code",
   "execution_count": 2,
   "metadata": {
    "collapsed": true,
    "scrolled": false
   },
   "outputs": [],
   "source": [
    "import urllib.request\n",
    "import re\n",
    "import numpy as np"
   ]
  },
  {
   "cell_type": "code",
   "execution_count": 3,
   "metadata": {
    "scrolled": false
   },
   "outputs": [
    {
     "name": "stdout",
     "output_type": "stream",
     "text": [
      "['79357497' '81406014' '80837042' '77913058' '18564147' '82117719'\n",
      " '77713828' '79638996' '77717436' '77504315' '78544072' '77787756'\n",
      " '76715648' '80159806' '83789892' '82096709' '77694090' '15158926'\n",
      " '14523716' '19719827']\n"
     ]
    }
   ],
   "source": [
    "product=np.array([])\n",
    "request = urllib.request.urlopen(\"https://www.skapiec.pl/cat/200-telefony-komorkowe.html\")\n",
    "html = request.read().decode('utf-8')\n",
    "\n",
    "product=np.array(re.findall('id=\"component-?\\'?([^\"\\'>]*)', html))\n",
    "\n",
    "print(product)"
   ]
  },
  {
   "cell_type": "code",
   "execution_count": null,
   "metadata": {
    "collapsed": true,
    "scrolled": false
   },
   "outputs": [],
   "source": [
    "offer = np.array([])\n",
    "\n",
    "#for i in range(len(product)):\n",
    "i = 4\n",
    "url = \"https://www.skapiec.pl/site/cat/200/comp/\" + str(product[i])\n",
    "request = urllib.request.urlopen(url)\n",
    "\n",
    "html = request.read().decode('utf-8').lower()\n",
    "\n",
    "offer = np.append(offer,[re.findall('gtm_or_name\">\\n\"?\\'?([^\"\\'>]*)<', html)])"
   ]
  },
  {
   "cell_type": "code",
   "execution_count": 22,
   "metadata": {
    "scrolled": true
   },
   "outputs": [
    {
     "name": "stdout",
     "output_type": "stream",
     "text": [
      "myphone hammer blade srebny / darmowa dostawa \n",
      "smartfon myphone hammer blade srebrny /w24h/ + darmowy transport! \n",
      "myphone smartfon myphone hammer blade srebrny /w24h/ blade srebrny \n",
      "myphone smartfon myphone hammer blade srebrny wysyłka w 24h, + darmowy transport! blade srebrny \n",
      "smartfon myphone hammer blade srebrny + uchwyt trust premium 20398 czarny \n",
      "smartfon myphone hammer blade srebrny + karta pamięci 32gb sandisk micro sd ultra 100mb/s cl10 173447 sdsquar-032g-gn6 \n",
      "smartfon myphone hammer blade srebrny + słuchawka jabra talk \n",
      "smartfon myphone hammer blade srebrny + karta pamięci 32gb sandisk micro sd ultra 100mb/s cl10 173447 sdsquar-032g-gn6 + uchwyt trust premium 20398 czarny \n",
      "smartfon myphone hammer blade srebrny + słuchawka jabra talk + uchwyt trust premium 20398 czarny \n",
      "smartfon myphone hammer blade srebrny + karta pamięci 32gb sandisk micro sd ultra 100mb/s cl10 173447 sdsquar-032g-gn6 + słuchawka jabra talk \n",
      "smartfon myphone hammer blade srebrny + karta pamięci 32gb sandisk micro sd ultra 100mb/s cl10 173447 sdsquar-032g-gn6 + słuchawka jabra talk + uchwyt trust premium 20398 czarny \n",
      "myphone hammer blade (srebrny) - raty 10 x 109,80 zł - szybka wysyłka! | darmowa dostawa \n",
      "myphone hammer blade srebrny - szybka dostawa lub możliwość odbioru w 20 miastach \n",
      "myphone hammer blade (srebrny) - kup na 20 rat 0%, spłacimy za ciebie 56,95 zł | darmowa dostawa \n",
      "myphone hammer blade kolor: srebrny + pakiet akcesoriów o wartości 69zł - wysyłka lub odbiór: kraków, dębica \n",
      "myphone smartfon hammer blade srebrny \n",
      "myphone hammer blade srebrny - ekspresowa wysyłka i bezpieczeństwo zakupów 21 dni na zwrot. \n",
      "myphone smartfon hammer blade srebrny \n"
     ]
    }
   ],
   "source": [
    "for i in range(len(offer)):\n",
    "    print(offer[i])"
   ]
  },
  {
   "cell_type": "code",
   "execution_count": 23,
   "metadata": {
    "collapsed": true,
    "scrolled": true
   },
   "outputs": [],
   "source": [
    "w = np.array([])\n",
    "for i in range(len(offer)):\n",
    "    w = np.append(w, offer[i].split(), axis=0)"
   ]
  },
  {
   "cell_type": "code",
   "execution_count": 1,
   "metadata": {},
   "outputs": [
    {
     "ename": "NameError",
     "evalue": "name 'np' is not defined",
     "output_type": "error",
     "traceback": [
      "\u001b[1;31m---------------------------------------------------------------------------\u001b[0m",
      "\u001b[1;31mNameError\u001b[0m                                 Traceback (most recent call last)",
      "\u001b[1;32m<ipython-input-1-c6dce3b5f37c>\u001b[0m in \u001b[0;36m<module>\u001b[1;34m()\u001b[0m\n\u001b[1;32m----> 1\u001b[1;33m \u001b[0munique\u001b[0m\u001b[1;33m,\u001b[0m \u001b[0mcounts\u001b[0m \u001b[1;33m=\u001b[0m \u001b[0mnp\u001b[0m\u001b[1;33m.\u001b[0m\u001b[0munique\u001b[0m\u001b[1;33m(\u001b[0m\u001b[0mw\u001b[0m\u001b[1;33m,\u001b[0m \u001b[0mreturn_counts\u001b[0m\u001b[1;33m=\u001b[0m\u001b[1;32mTrue\u001b[0m\u001b[1;33m)\u001b[0m\u001b[1;33m\u001b[0m\u001b[0m\n\u001b[0m\u001b[0;32m      2\u001b[0m \u001b[0md\u001b[0m \u001b[1;33m=\u001b[0m \u001b[0mdict\u001b[0m\u001b[1;33m(\u001b[0m\u001b[0mzip\u001b[0m\u001b[1;33m(\u001b[0m\u001b[0mcounts\u001b[0m\u001b[1;33m,\u001b[0m \u001b[0munique\u001b[0m\u001b[1;33m)\u001b[0m\u001b[1;33m)\u001b[0m\u001b[1;33m\u001b[0m\u001b[0m\n",
      "\u001b[1;31mNameError\u001b[0m: name 'np' is not defined"
     ]
    }
   ],
   "source": [
    "unique, counts = np.unique(w, return_counts=True)\n",
    "d = dict(zip(counts, unique))\n"
   ]
  },
  {
   "cell_type": "code",
   "execution_count": null,
   "metadata": {
    "collapsed": true
   },
   "outputs": [],
   "source": []
  }
 ],
 "metadata": {
  "kernelspec": {
   "display_name": "Python 3",
   "language": "python",
   "name": "python3"
  },
  "language_info": {
   "codemirror_mode": {
    "name": "ipython",
    "version": 3
   },
   "file_extension": ".py",
   "mimetype": "text/x-python",
   "name": "python",
   "nbconvert_exporter": "python",
   "pygments_lexer": "ipython3",
   "version": "3.6.2"
  }
 },
 "nbformat": 4,
 "nbformat_minor": 2
}
