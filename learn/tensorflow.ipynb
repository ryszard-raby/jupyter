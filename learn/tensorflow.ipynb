{
 "cells": [
  {
   "cell_type": "code",
   "execution_count": 2,
   "metadata": {},
   "outputs": [
    {
     "name": "stderr",
     "output_type": "stream",
     "text": [
      "Using TensorFlow backend.\n"
     ]
    }
   ],
   "source": [
    "import keras\n",
    "import numpy as np"
   ]
  },
  {
   "cell_type": "code",
   "execution_count": 3,
   "metadata": {},
   "outputs": [
    {
     "name": "stdout",
     "output_type": "stream",
     "text": [
      "data in \n",
      " [[0 0]\n",
      " [0 1]\n",
      " [1 0]\n",
      " [1 1]]\n",
      "\n",
      "logic_and \n",
      " [[0]\n",
      " [0]\n",
      " [0]\n",
      " [1]]\n",
      "\n",
      "logic_or \n",
      " [[0]\n",
      " [1]\n",
      " [1]\n",
      " [1]]\n",
      "\n",
      "logic_xor \n",
      " [[0]\n",
      " [1]\n",
      " [1]\n",
      " [0]]\n"
     ]
    }
   ],
   "source": [
    "data_in = np.array([[0,0],[0,1],[1,0],[1,1]])\n",
    "\n",
    "print(\"data_in \\n\", data_in)\n",
    "\n",
    "logic_and = np.array([[0],[0],[0],[1]])\n",
    "print(\"\\nlogic_and \\n\", logic_and)\n",
    "\n",
    "logic_or = np.array([[0],[1],[1],[1]])\n",
    "print(\"\\nlogic_or \\n\", logic_or)\n",
    "\n",
    "logic_xor = np.array([[0],[1],[1],[0]])\n",
    "print(\"\\nlogic_xor \\n\", logic_xor)"
   ]
  },
  {
   "cell_type": "code",
   "execution_count": 59,
   "metadata": {},
   "outputs": [],
   "source": [
    "model = keras.models.Sequential(layers=[\n",
    "    keras.layers.Dense(input_dim=2, units=2),\n",
    "    keras.layers.Activation(keras.activations.sigmoid),\n",
    "    keras.layers.Dense(units=1),\n",
    "    keras.layers.Activation(keras.activations.sigmoid)\n",
    "])\n",
    "\n",
    "model.compile(optimizer=keras.optimizers.SGD(lr=.5), loss='mse')"
   ]
  },
  {
   "cell_type": "code",
   "execution_count": 61,
   "metadata": {},
   "outputs": [
    {
     "data": {
      "text/plain": [
       "[<tf.Variable 'dense_5/kernel:0' shape=(2, 2) dtype=float32_ref>,\n",
       " <tf.Variable 'dense_5/bias:0' shape=(2,) dtype=float32_ref>,\n",
       " <tf.Variable 'dense_6/kernel:0' shape=(2, 1) dtype=float32_ref>,\n",
       " <tf.Variable 'dense_6/bias:0' shape=(1,) dtype=float32_ref>]"
      ]
     },
     "execution_count": 61,
     "metadata": {},
     "output_type": "execute_result"
    }
   ],
   "source": [
    "model.weights"
   ]
  },
  {
   "cell_type": "code",
   "execution_count": 68,
   "metadata": {},
   "outputs": [
    {
     "data": {
      "text/plain": [
       "array([[ 1.07196319,  0.99184239],\n",
       "       [ 0.39306819,  0.44276404]], dtype=float32)"
      ]
     },
     "execution_count": 68,
     "metadata": {},
     "output_type": "execute_result"
    }
   ],
   "source": [
    "keras.backend.eval(model.weights[0])"
   ]
  },
  {
   "cell_type": "code",
   "execution_count": 73,
   "metadata": {},
   "outputs": [
    {
     "data": {
      "text/plain": [
       "<keras.callbacks.History at 0x1eb3b59ac50>"
      ]
     },
     "execution_count": 73,
     "metadata": {},
     "output_type": "execute_result"
    }
   ],
   "source": [
    "model.fit(data_in, logic_xor, epochs=1000, verbose = False)"
   ]
  },
  {
   "cell_type": "code",
   "execution_count": 79,
   "metadata": {},
   "outputs": [
    {
     "data": {
      "text/plain": [
       "array([[ 0.06794927]], dtype=float32)"
      ]
     },
     "execution_count": 79,
     "metadata": {},
     "output_type": "execute_result"
    }
   ],
   "source": [
    "model.predict(np.array([[1,1]]))"
   ]
  },
  {
   "cell_type": "code",
   "execution_count": null,
   "metadata": {
    "collapsed": true
   },
   "outputs": [],
   "source": []
  }
 ],
 "metadata": {
  "kernelspec": {
   "display_name": "Python 3",
   "language": "python",
   "name": "python3"
  },
  "language_info": {
   "codemirror_mode": {
    "name": "ipython",
    "version": 3
   },
   "file_extension": ".py",
   "mimetype": "text/x-python",
   "name": "python",
   "nbconvert_exporter": "python",
   "pygments_lexer": "ipython3",
   "version": "3.6.2"
  }
 },
 "nbformat": 4,
 "nbformat_minor": 2
}
