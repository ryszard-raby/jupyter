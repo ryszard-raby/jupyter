{
 "cells": [
  {
   "cell_type": "code",
   "execution_count": 2,
   "metadata": {},
   "outputs": [],
   "source": [
    "import keras\n",
    "import numpy as np"
   ]
  },
  {
   "cell_type": "code",
   "execution_count": 16,
   "metadata": {},
   "outputs": [
    {
     "name": "stdout",
     "output_type": "stream",
     "text": [
      "data in \n",
      " [[0 0]\n",
      " [0 1]\n",
      " [1 0]\n",
      " [1 1]]\n",
      "\n",
      "logic_and \n",
      " [[0]\n",
      " [0]\n",
      " [0]\n",
      " [1]]\n",
      "\n",
      "logic_or \n",
      " [[0]\n",
      " [1]\n",
      " [1]\n",
      " [1]]\n",
      "\n",
      "logic_or \n",
      " [[0]\n",
      " [1]\n",
      " [1]\n",
      " [1]]\n"
     ]
    }
   ],
   "source": [
    "data_in = np.array([[0,0],[0,1],[1,0],[1,1]])\n",
    "\n",
    "print(\"data in \\n\", data_in)\n",
    "\n",
    "logic_and = np.array([[0],[0],[0],[1]])\n",
    "print(\"\\nlogic_and \\n\", logic_and)\n",
    "\n",
    "logic_or = np.array([[0],[1],[1],[1]])\n",
    "print(\"\\nlogic_or \\n\", logic_or)\n",
    "\n",
    "logic_xor = np.array([[0],[1],[1],[0]])\n",
    "print(\"\\nlogic_xor \\n\", logic_xor)"
   ]
  },
  {
   "cell_type": "code",
   "execution_count": 8,
   "metadata": {},
   "outputs": [
    {
     "name": "stdout",
     "output_type": "stream",
     "text": [
      "[[0]\n",
      " [0]\n",
      " [0]\n",
      " [1]]\n"
     ]
    }
   ],
   "source": [
    "model = keras.models.Sequential()"
   ]
  },
  {
   "cell_type": "code",
   "execution_count": null,
   "metadata": {
    "collapsed": true
   },
   "outputs": [],
   "source": []
  }
 ],
 "metadata": {
  "kernelspec": {
   "display_name": "Python 3",
   "language": "python",
   "name": "python3"
  },
  "language_info": {
   "codemirror_mode": {
    "name": "ipython",
    "version": 3
   },
   "file_extension": ".py",
   "mimetype": "text/x-python",
   "name": "python",
   "nbconvert_exporter": "python",
   "pygments_lexer": "ipython3",
   "version": "3.6.2"
  }
 },
 "nbformat": 4,
 "nbformat_minor": 2
}
