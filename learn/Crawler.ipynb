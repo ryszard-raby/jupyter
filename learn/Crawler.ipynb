{
 "cells": [
  {
   "cell_type": "code",
   "execution_count": 112,
   "metadata": {
    "scrolled": false
   },
   "outputs": [],
   "source": [
    "import urllib.request\n",
    "import re\n",
    "import numpy as np"
   ]
  },
  {
   "cell_type": "code",
   "execution_count": 127,
   "metadata": {
    "scrolled": false
   },
   "outputs": [
    {
     "name": "stdout",
     "output_type": "stream",
     "text": [
      "['79357497' '81406014' '82117719' '77913058' '78544072' '76715648'\n",
      " '77717436' '83789892' '77787756' '77713828' '81923587' '14523716'\n",
      " '81105383' '82096709' '16620452' '80146475' '80159806' '77536162'\n",
      " '83647952' '81453095']\n"
     ]
    }
   ],
   "source": [
    "product=np.array([])\n",
    "request = urllib.request.urlopen(\"https://www.skapiec.pl/cat/200-telefony-komorkowe.html\")\n",
    "html = request.read().decode('utf-8')\n",
    "\n",
    "product=np.array(re.findall('id=\"component-?\\'?([^\"\\'>]*)', html))\n",
    "\n",
    "print(product)"
   ]
  },
  {
   "cell_type": "code",
   "execution_count": 420,
   "metadata": {
    "scrolled": false
   },
   "outputs": [],
   "source": [
    "offer = np.array([])\n",
    "\n",
    "#for i in range(len(product)):\n",
    "i = 6\n",
    "url = \"https://www.skapiec.pl/site/cat/200/comp/\" + str(product[i])\n",
    "request = urllib.request.urlopen(url)\n",
    "\n",
    "html = request.read().decode('utf-8').lower()\n",
    "\n",
    "offer = np.append(offer,[re.findall('gtm_or_name\">\\n\"?\\'?([^\"\\'>]*)<', html)])"
   ]
  },
  {
   "cell_type": "code",
   "execution_count": 421,
   "metadata": {
    "scrolled": true
   },
   "outputs": [
    {
     "name": "stdout",
     "output_type": "stream",
     "text": [
      "samsung galaxy s8 g950f 64gb czarny \n",
      "smarfon samsung galaxy s8 64gb srebrny [polska dystrybucja] \n",
      "smartfon samsung galaxy s8 ( 64gb ) srebrny \n",
      "samsung galaxy s8 64gb czarny \n",
      "samsung galaxy s8 64gb srebrny \n",
      "samsung galaxy s8 g950f 64gb srebrny \n",
      "samsung galaxy s8 64gb sm-g950 midnight black \n",
      "samsung g950f galaxy s8 64gb czarny \n",
      "samsung g950f galaxy s8 64gb srebrny \n",
      "samsung galaxy s8 g950f midnight black - dostawa gratis! \n",
      "samsung galaxy s8 g950f arctic silver - dostawa gratis! \n",
      "samsung smartfon samsung galaxy s8 64gb sm-g950 midnight black + odbierz od producenta nawet 400 zł w gotówce! /w24h/ sm-g950fzkaxeo \n",
      "smartfon samsung galaxy s8 64gb sm-g950 midnight black + odbierz od producenta nawet 400 zł w gotówce! /w24h/ + darmowy transport! \n",
      "samsung smartfon samsung galaxy s8 64gb sm-g950 midnight black + odbierz od producenta nawet 400 zł w gotówce! wysyłka w 24h, + odbierz za godzinę w elektromarkecie! + darmowy transport! sm-g950fz \n",
      "smartfon samsung galaxy s8 64gb sm-g950 midnight black + uchwyt trust premium 20398 czarny \n",
      "smartfon samsung galaxy s8 64gb sm-g950 midnight black + karta pamięci 32gb sandisk micro sd ultra 100mb/s cl10 173447 sdsquar-032g-gn6 \n",
      "smartfon samsung galaxy s8 64gb sm-g950 midnight black + słuchawka jabra talk \n",
      "smartfon samsung galaxy s8 64gb sm-g950 midnight black + karta pamięci 32gb sandisk micro sd ultra 100mb/s cl10 173447 sdsquar-032g-gn6 + uchwyt trust premium 20398 czarny \n",
      "smartfon samsung galaxy s8 64gb sm-g950 midnight black + słuchawka jabra talk + uchwyt trust premium 20398 czarny \n",
      "smartfon samsung galaxy s8 64gb sm-g950 midnight black + karta pamięci 32gb sandisk micro sd ultra 100mb/s cl10 173447 sdsquar-032g-gn6 + słuchawka jabra talk \n",
      "smartfon samsung galaxy s8 64gb sm-g950 midnight black + karta pamięci 32gb sandisk micro sd ultra 100mb/s cl10 173447 sdsquar-032g-gn6 + słuchawka jabra talk + uchwyt trust premium 20398 czarny \n",
      "samsung galaxy s8 sm-g950 (midnight black) - raty 10 x 299,70 zł - szybka wysyłka! | darmowa dostawa \n",
      "samsung galaxy s8 sm-g950 (arctic silver) - raty 10 x 308,80 zł - szybka wysyłka! | darmowa dostawa \n",
      "samsung g950f galaxy s8 midnight black \n",
      "samsung g950f galaxy s8 midnight black / darmowa dostawa \n",
      "samsung galaxy s8 g950f midnight black + samsung guard s8 \n",
      "samsung galaxy s8 g950f arctic silver + samsung guard s8 \n",
      "samsung galaxy s8 g950f midnight black + 64gb - gwarancja najwyższej jakości zakupów. 15 lat ponad standard \n",
      "samsung galaxy s8 g950f arctic silver + 64gb - gwarancja najwyższej jakości zakupów. 15 lat ponad standard \n",
      "samsung galaxy s8 g950f arctic silver + 128gb - gwarancja najwyższej jakości zakupów. 15 lat ponad standard \n",
      "samsung galaxy s8 g950f midnight black - oficjalna polska dystrybucja. gwarancja 24 m-ce. ekspresowa wysyłka \n",
      "samsung galaxy s8 g950f arctic silver - oficjalna polska dystrybucja. gwarancja 24 m-ce. ekspresowa wysyłka \n",
      "samsung galaxy s8 64gb midnight black (g950) - kup smartfon samsung objęty promocją i odbierz 400zł w bankomacie! \n",
      "samsung galaxy s8 64gb arctic silver (g950) - kup smartfon samsung objęty promocją i odbierz 400zł w bankomacie! \n",
      "samsung galaxy s8 64gb midnight black (g950) - blisko 700 punktów odbioru w całej polsce! szybka dostawa! atrakcyjne raty! dostawa w 2h - warszawa poznań \n",
      "samsung galaxy s8 64gb arctic silver (g950) - blisko 700 punktów odbioru w całej polsce! szybka dostawa! atrakcyjne raty! dostawa w 2h - warszawa poznań \n",
      "dostawa 0zł!smartfon samsung galaxy s8 arctic silver (sm-g950f) darmowy odbiór w 20 miastach! \n",
      "dostawa 0zł!smartfon samsung galaxy s8 midnight black (sm-g950f) darmowy odbiór w 20 miastach! \n",
      "samsung galaxy s8 sm-g950 (midnight black) - raty 10 x 299,90 zł | darmowa dostawa \n",
      "samsung galaxy s8 sm-g950 (arctic silver) - raty 10 x 308,80 zł | darmowa dostawa \n",
      "samsung galaxy s8 64gb arctic silver \n",
      "samsung smartfon galaxy s8 artic silver \n",
      "samsung smartfon galaxy s8 artic silver \n",
      "samsung galaxy s8 g950fd 64gb dual sim czarny \n",
      "samsung galaxy s8 64gb, midnight black, bezpłatny odbiór: wrocław! \n",
      "samsung galaxy s8 64gb, arctic silver, bezpłatny odbiór: wrocław! \n",
      "samsung galaxy s8 64gb midnight black (sm-g950) - promocja ! otrzymaj zwrot 400zł odbierz w warszawie. faktura vat 23%. polska gwarancja. \n",
      "samsung galaxy s8 sm-g950fzkaxeo black \n",
      "samsung galaxy s8 silver sm-g950fzsaxeo \n",
      "telefon komórkowy samsung galaxy s8 - arctic silver (sm-g950fzsaetl) \n",
      "smartfon samsung galaxy s8 \n",
      "smartfon samsung galaxy s8 \n",
      "smartfon samsung galaxy s8 artic silver sm-g950fzsaxeo + ładowarka ep-ng930bbegww + dodatkowo otrzymaj zwrot do 400zł w gotówce! sprawdź na redcoon.pl \n",
      "smartfon samsung galaxy s8 midnight black sm-g950fzkaxeo + ładowarka ep-ng930bbegww + dodatkowo otrzymaj zwrot do 400zł w gotówce! sprawdź na redcoon.pl \n",
      "smartfon samsung galaxy s8 artic silver sm-g950fzsaxeo + ładowarka ep-ng930bbegww + karta pamięci mb-mc32ga + dodatkowo otrzymaj zwrot do 400zł w gotówce! sprawdź na redcoon.pl \n",
      "samsung electronics polska smartfon galaxy s8 ( 5,8&quot; ; 2960x1440 ; 64gb ; 4gb ; czarny ) \n",
      "smartfon samsung galaxy s8 kolor: midnight black - wysyłka lub odbiór: kraków, dębica \n",
      "smartfon samsung galaxy s8 kolor: arctic silver - wysyłka lub odbiór: kraków, dębica \n"
     ]
    }
   ],
   "source": [
    "for i in range(len(offer)):\n",
    "    print(offer[i])"
   ]
  },
  {
   "cell_type": "code",
   "execution_count": 422,
   "metadata": {
    "scrolled": true
   },
   "outputs": [],
   "source": [
    "w = np.array([])\n",
    "for i in range(len(offer)):\n",
    "    w = np.append(w, offer[i].split(), axis=0)"
   ]
  },
  {
   "cell_type": "code",
   "execution_count": 562,
   "metadata": {},
   "outputs": [
    {
     "data": {
      "text/plain": [
       "array([['30', '+'],\n",
       "       ['23', '-'],\n",
       "       ['29', '64gb'],\n",
       "       ['12', 'arctic'],\n",
       "       ['24', 'black'],\n",
       "       ['11', 'dostawa'],\n",
       "       ['15', 'g950f'],\n",
       "       ['58', 'galaxy'],\n",
       "       ['24', 'midnight'],\n",
       "       ['60', 's8'],\n",
       "       ['64', 'samsung'],\n",
       "       ['16', 'silver'],\n",
       "       ['15', 'sm-g950'],\n",
       "       ['23', 'smartfon'],\n",
       "       ['17', 'w']], \n",
       "      dtype='<U32')"
      ]
     },
     "execution_count": 562,
     "metadata": {},
     "output_type": "execute_result"
    }
   ],
   "source": [
    "unique, counts = np.unique(w, return_counts=True)\n",
    "#dict(zip(unique, counts))\n",
    "\n",
    "fil = np.array([()])\n",
    "\n",
    "for i in range(len(unique)):\n",
    "    if counts[i]>10:\n",
    "        fil = np.append(fil, (counts[i],unique[i]))\n",
    "fil = fil.reshape(15,2)\n",
    "#fil = np.array(fil , dtype=[('x','U2')][('','U3'),('','U4')])\n",
    "fil"
   ]
  },
  {
   "cell_type": "code",
   "execution_count": null,
   "metadata": {
    "collapsed": true
   },
   "outputs": [],
   "source": []
  }
 ],
 "metadata": {
  "kernelspec": {
   "display_name": "Python 3",
   "language": "python",
   "name": "python3"
  },
  "language_info": {
   "codemirror_mode": {
    "name": "ipython",
    "version": 3
   },
   "file_extension": ".py",
   "mimetype": "text/x-python",
   "name": "python",
   "nbconvert_exporter": "python",
   "pygments_lexer": "ipython3",
   "version": "3.6.2"
  }
 },
 "nbformat": 4,
 "nbformat_minor": 2
}
