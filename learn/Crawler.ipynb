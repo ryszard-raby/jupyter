{
 "cells": [
  {
   "cell_type": "code",
   "execution_count": 54,
   "metadata": {},
   "outputs": [],
   "source": [
    "import urllib.request\n",
    "import re"
   ]
  },
  {
   "cell_type": "code",
   "execution_count": 64,
   "metadata": {},
   "outputs": [
    {
     "data": {
      "text/plain": [
       "['http://78.media.tumblr.com/205defc863cec5198a47b11d0f40fea4/tumblr_p04rl2H4Ir1qkegsbo1_1280.jpg',\n",
       " 'http://78.media.tumblr.com/9a166ff9537a63814b7ebfbcd70b142a/tumblr_p04rl2H4Ir1qkegsbo2_1280.jpg',\n",
       " 'http://78.media.tumblr.com/53591bf1c49ee838391d86645604df92/tumblr_p04rl2H4Ir1qkegsbo3_1280.jpg',\n",
       " 'http://78.media.tumblr.com/36c872b4d660f8c138e0b61ae0f74659/tumblr_p06pxg70RQ1qkegsbo3_1280.jpg',\n",
       " 'http://78.media.tumblr.com/417193434a1178d3e544ebca962d88b5/tumblr_p06pxg70RQ1qkegsbo1_1280.jpg',\n",
       " 'http://78.media.tumblr.com/6333a8695b87dcb5b0bb3a586c70831a/tumblr_p06pxg70RQ1qkegsbo2_1280.jpg',\n",
       " 'http://78.media.tumblr.com/ad1709e4d16dd1fe07566e2f2b997568/tumblr_p0aaj9yuwY1qkegsbo1_1280.jpg',\n",
       " 'http://78.media.tumblr.com/d91ae27e7e4a81a6feb361d36bf1f634/tumblr_p0aaj9yuwY1qkegsbo2_1280.jpg',\n",
       " 'http://78.media.tumblr.com/77d6549518f27d9475cc3ed4d7e44a43/tumblr_p0aaj9yuwY1qkegsbo3_1280.jpg',\n",
       " 'http://78.media.tumblr.com/929fcc79c363f563089c1c5e11abd2bf/tumblr_p0t34ufhbb1qkegsbo1_1280.jpg',\n",
       " 'http://78.media.tumblr.com/db5567599e69321a17214c3aae67456e/tumblr_p0t34ufhbb1qkegsbo3_1280.jpg',\n",
       " 'http://78.media.tumblr.com/4b32b226cc0a4eadd046959dc465f937/tumblr_p0t34ufhbb1qkegsbo2_1280.jpg',\n",
       " 'http://78.media.tumblr.com/bfc041367ac31ca998da06d8347aa2ce/tumblr_p0yewzCB5j1qkegsbo4_1280.jpg',\n",
       " 'http://78.media.tumblr.com/a4186cb86f32d71bf999375ed940a8eb/tumblr_p0yewzCB5j1qkegsbo3_1280.jpg',\n",
       " 'http://78.media.tumblr.com/86d2e41f39de3b92a7e529467d20c409/tumblr_p0yewzCB5j1qkegsbo2_1280.jpg',\n",
       " 'http://78.media.tumblr.com/37d86e129dc35cce839dc9dee5cef247/tumblr_p0yewzCB5j1qkegsbo1_1280.jpg',\n",
       " 'http://78.media.tumblr.com/7b3d010d1eb07c716ccb5bee31289f83/tumblr_p1znnk9EkL1qkegsbo1_1280.jpg',\n",
       " 'http://78.media.tumblr.com/13c849114e1beb5da92b987606cddcf4/tumblr_p1znnk9EkL1qkegsbo2_1280.jpg',\n",
       " 'http://78.media.tumblr.com/7bcdc848dcc5d504a99bd43fc181f4da/tumblr_p1znnk9EkL1qkegsbo4_1280.png',\n",
       " 'http://78.media.tumblr.com/07e34005c2a1e12d056f6d9fe003aba7/tumblr_p1znnk9EkL1qkegsbo3_1280.jpg',\n",
       " 'http://78.media.tumblr.com/3cd4ec421d74682ca1d4914e1a7e2cc9/tumblr_p1znj8JUpS1qkegsbo1_1280.jpg',\n",
       " 'http://78.media.tumblr.com/3ea32b14ce742aba55d5de7b291a6168/tumblr_p1znj8JUpS1qkegsbo2_1280.jpg']"
      ]
     },
     "execution_count": 64,
     "metadata": {},
     "output_type": "execute_result"
    }
   ],
   "source": [
    "request = urllib.request.urlopen(\"http://linxspiration.com\")\n",
    "html = request.read().decode('utf-8')\n",
    "\n",
    "re.findall('data-highres=\"?\\'?([^\"\\'>]*)', html)"
   ]
  },
  {
   "cell_type": "raw",
   "metadata": {},
   "source": []
  },
  {
   "cell_type": "code",
   "execution_count": null,
   "metadata": {
    "collapsed": true
   },
   "outputs": [],
   "source": []
  },
  {
   "cell_type": "code",
   "execution_count": null,
   "metadata": {
    "collapsed": true
   },
   "outputs": [],
   "source": [
    "data-highres=\"http://78.media.tumblr.com/d91ae27e7e4a81a6feb361d36bf1f634/tumblr_p0aaj9yuwY1qkegsbo2_1280.jpg\""
   ]
  }
 ],
 "metadata": {
  "kernelspec": {
   "display_name": "Python 3",
   "language": "python",
   "name": "python3"
  },
  "language_info": {
   "codemirror_mode": {
    "name": "ipython",
    "version": 3
   },
   "file_extension": ".py",
   "mimetype": "text/x-python",
   "name": "python",
   "nbconvert_exporter": "python",
   "pygments_lexer": "ipython3",
   "version": "3.6.2"
  }
 },
 "nbformat": 4,
 "nbformat_minor": 2
}
