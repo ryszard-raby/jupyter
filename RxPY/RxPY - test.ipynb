{
 "cells": [
  {
   "cell_type": "code",
   "execution_count": 1,
   "metadata": {},
   "outputs": [
    {
     "name": "stdout",
     "output_type": "stream",
     "text": [
      "Recived 5\n",
      "Recived 5\n"
     ]
    }
   ],
   "source": [
    "from rx import of, operators as op\n",
    "\n",
    "source = of(\"alpha\", \"beta\", \"gamma\")\n",
    "\n",
    "composed = source.pipe(\n",
    "    op.map(lambda s: len(s)),\n",
    "    op.filter(lambda i: i >= 5)\n",
    ")\n",
    "\n",
    "composed.subscribe(lambda value: print(\"Recived {0}\".format(value)))\n",
    "source = of(\"delta\")"
   ]
  },
  {
   "cell_type": "code",
   "execution_count": 4,
   "metadata": {},
   "outputs": [
    {
     "data": {
      "text/plain": [
       "<rx.disposable.disposable.Disposable at 0x18a18c6e518>"
      ]
     },
     "execution_count": 4,
     "metadata": {},
     "output_type": "execute_result"
    }
   ],
   "source": [
    "from rx.subject import Subject\n",
    "\n",
    "subject = Subject()\n",
    "\n",
    "subject.subscribe(lambda v: print(v))"
   ]
  },
  {
   "cell_type": "code",
   "execution_count": 6,
   "metadata": {},
   "outputs": [
    {
     "name": "stdout",
     "output_type": "stream",
     "text": [
      "test\n"
     ]
    }
   ],
   "source": [
    "subject.on_next(\"test\")\n",
    "subject.on_completed()"
   ]
  },
  {
   "cell_type": "code",
   "execution_count": 14,
   "metadata": {},
   "outputs": [
    {
     "name": "stdout",
     "output_type": "stream",
     "text": [
      "Observer A: Behavior Subject\n",
      "Observer A: bf message 1\n",
      "Observer B: bf message 1\n",
      "Observer A: bf message 2\n",
      "Observer B: bf message 2\n"
     ]
    }
   ],
   "source": [
    "from rx.subject import BehaviorSubject\n",
    "b_subject = BehaviorSubject(\"Behavior Subject\")\n",
    "\n",
    "b_subject.subscribe(lambda v: print(\"Observer A: {0}\".format(v)))\n",
    "\n",
    "b_subject.on_next(\"bf message 1\")\n",
    "\n",
    "b_subject.subscribe(lambda v: print(\"Observer B: {0}\".format(v)))\n",
    "\n",
    "b_subject.on_next(\"bf message 2\")"
   ]
  },
  {
   "cell_type": "code",
   "execution_count": 27,
   "metadata": {},
   "outputs": [
    {
     "data": {
      "text/plain": [
       "<rx.disposable.disposable.Disposable at 0x18a18e1fcf8>"
      ]
     },
     "execution_count": 27,
     "metadata": {},
     "output_type": "execute_result"
    }
   ],
   "source": [
    "from rx.subject import Subject\n",
    "\n",
    "subject = Subject()\n",
    "\n",
    "subject.subscribe(\n",
    "    on_next = lambda v: print(\"value is {0}\".format(v)),\n",
    "    on_error = lambda e: print(\"some wend wrong {0}\".format(e)),\n",
    "    on_completed = lambda: print(\"Done!\")\n",
    ")"
   ]
  },
  {
   "cell_type": "code",
   "execution_count": 28,
   "metadata": {},
   "outputs": [
    {
     "name": "stdout",
     "output_type": "stream",
     "text": [
      "value is test\n",
      "Done!\n"
     ]
    }
   ],
   "source": [
    "subject.on_next(\"test\")\n",
    "subject.on_completed()"
   ]
  },
  {
   "cell_type": "code",
   "execution_count": null,
   "metadata": {},
   "outputs": [],
   "source": []
  }
 ],
 "metadata": {
  "kernelspec": {
   "display_name": "Python 3",
   "language": "python",
   "name": "python3"
  },
  "language_info": {
   "codemirror_mode": {
    "name": "ipython",
    "version": 3
   },
   "file_extension": ".py",
   "mimetype": "text/x-python",
   "name": "python",
   "nbconvert_exporter": "python",
   "pygments_lexer": "ipython3",
   "version": "3.7.1"
  }
 },
 "nbformat": 4,
 "nbformat_minor": 2
}
