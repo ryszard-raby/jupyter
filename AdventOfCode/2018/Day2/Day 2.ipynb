{
 "cells": [
  {
   "cell_type": "code",
   "execution_count": 52,
   "metadata": {
    "collapsed": true
   },
   "outputs": [],
   "source": [
    "data = open(\"input.txt\", \"r\")"
   ]
  },
  {
   "cell_type": "code",
   "execution_count": 53,
   "metadata": {},
   "outputs": [
    {
     "name": "stdout",
     "output_type": "stream",
     "text": [
      "5681\n"
     ]
    }
   ],
   "source": [
    "series = [];\n",
    "results = [];\n",
    "\n",
    "for code in data.read().splitlines():\n",
    "    series = list(code)\n",
    "    results_temp = [];\n",
    "    for i in series:\n",
    "        c = series.count(i)\n",
    "        if c >= 2:\n",
    "            if not c in results_temp:\n",
    "                results_temp.append(c)\n",
    "                results.append(c)\n",
    "\n",
    "print(results.count(2)*results.count(3))\n",
    "        "
   ]
  }
 ],
 "metadata": {
  "kernelspec": {
   "display_name": "Python 3",
   "language": "python",
   "name": "python3"
  },
  "language_info": {
   "codemirror_mode": {
    "name": "ipython",
    "version": 3
   },
   "file_extension": ".py",
   "mimetype": "text/x-python",
   "name": "python",
   "nbconvert_exporter": "python",
   "pygments_lexer": "ipython3",
   "version": "3.6.2"
  }
 },
 "nbformat": 4,
 "nbformat_minor": 2
}
