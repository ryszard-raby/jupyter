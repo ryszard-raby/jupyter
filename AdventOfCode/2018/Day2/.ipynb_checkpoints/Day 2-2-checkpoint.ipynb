{
 "cells": [
  {
   "cell_type": "code",
   "execution_count": 152,
   "metadata": {
    "collapsed": true
   },
   "outputs": [],
   "source": [
    "data = open(\"input2.txt\", \"r\")\n",
    "codes = data.read().splitlines()"
   ]
  },
  {
   "cell_type": "code",
   "execution_count": 153,
   "metadata": {},
   "outputs": [
    {
     "name": "stdout",
     "output_type": "stream",
     "text": [
      "['u', 'd', 'h', 'i', 'a', 'f', 'k', 'c', 's', 'l', 'p', 'q', 't', 'y', 'g', 'm', 'j', 'e', 'o', 'x', 'n']\n",
      "['q', 'd', 'f', 'h', 'g', 'n', 'u', 'w', 's', 'c', 'p', 'o', 'k']\n",
      "['y', 'l', 'g', 't', 'x', 'a', 'm', 'k', 'r', 'p', 'f', 'u', 'b', 'n', 'o', 'd', 'z', 's', 'e']\n",
      "['o', 'j', 'n', 't', 'f', 'c', 'd', 'i', 'g', 'u', 'z', 'l', 's', 'a', 'x', 'h', 'w']\n",
      "['e', 'n', 'g', 'r', 'o', 'i', 'v', 'q', 'z', 'h', 's', 'c', 'a', 'b', 'y', 't', 'x', 'k', 'p', 'd', 'u']\n",
      "['i', 'u', 'f', 'g', 'x', 'a', 'l', 'r', 'y', 'o', 'j', 'c', 'h', 'e', 'p', 't', 'k']\n",
      "['z', 'i', 'd', 'b', 't', 'v', 'y', 's', 'o', 'g', 'k', 'n', 'a', 'r', 'l', 'f', 'x', 'c', 'w', 'j', 'e']\n",
      "['n', 'f', 'y', 'p', 'o', 'r', 'h', 'c', 'z', 'q', 'u', 'w', 't']\n",
      "['v', 'b', 'h', 'i', 'u', 'a', 'l', 'e', 'o', 'r', 'f', 'g', 'j', 'm', 'z', 'n']\n",
      "['m', 't', 'b', 'v', 'n', 'l', 'o', 'c', 'h', 's', 'p', 'k', 'u', 'z', 'q', 'e', 'w']\n",
      "['z', 'b', 'y', 'h', 'i', 'x', 'a', 'g', 'w', 'k', 'n', 'l', 'u', 'f', 'o', 'm']\n",
      "['r', 'g', 'a', 'p', 'e', 'w', 'i', 'f', 'l', 'u', 'b', 'y', 'v', 'h', 'j', 'n']\n",
      "['s', 't', 'a', 'e', 'g', 'c', 'u', 'y', 'i', 'o', 'l', 'z', 'j', 'h', 'm', 'd', 'b', 'q']\n",
      "['t', 'd', 'e', 'l', 'w', 's', 'c', 'f', 'k', 'v', 'i', 'j', 'h', 'n', 'q', 'a', 'g', 'r', 'y', 'u']\n",
      "['p', 'r', 'i', 'l', 'y', 'x', 'n', 'o', 'e', 't', 'b', 'f', 'q', 'g', 'w', 'v', 'c', 's', 'z', 'u', 'k']\n",
      "['k', 'y', 'p', 'z', 'o', 'b', 'j', 'g', 'u', 'n', 'w', 'm', 'e', 'c', 'v', 'l', 'f', 'd', 'h']\n",
      "['g', 'b', 's', 'u', 'r', 'w', 'o', 'y', 'x', 'n', 'e', 'q', 'k', 't', 'j', 'v']\n",
      "['n', 'c', 'h', 'w', 'm', 'b', 'z', 'j', 'e', 'l', 'd', 'g', 'a', 'k', 'o', 's', 'p', 'i', 'x', 'q', 'u']\n",
      "['s', 'd', 'h', 't', 'm', 'f', 'w', 'l', 'i', 'u', 'q', 'o', 'g', 'r', 'e', 'p']\n",
      "['a', 'z', 'f', 'l', 'k', 'o', 'j', 'r', 'y', 'q', 'b', 's', 'h', 'e', 'i', 'n', 'v', 'g', 'm', 't']\n",
      "['c', 'n', 'z', 'a', 'x', 'e', 'd', 'l', 'g', 'r', 't', 'k', 'i', 'y', 'h', 'f', 'j', 'u', 's']\n",
      "['j', 'n', 'd', 'z', 'a', 'e', 'c', 'i', 'x', 't', 'k', 'b', 'u', 'h', 'w', 'o', 'g', 'l', 'q', 'v']\n",
      "['x', 'j', 'g', 'a', 'p', 'w', 'u', 'r', 'k', 'q', 't', 'b', 'z', 'y', 'f', 'i', 'h', 'm', 'c', 'v']\n",
      "['w', 's', 'n', 'r', 'z', 'h', 'l', 'b', 'd', 'o', 'c', 'x', 'i', 'e', 'y', 'm', 'u', 'f', 'v', 'p', 't']\n",
      "['l', 'y', 'v', 'd', 'u', 't', 'w', 'b', 's', 'p', 'c', 'z', 'e', 'j', 'a', 'i', 'k', 'g', 'r', 'f']\n",
      "['d', 'q', 'z', 'p', 'l', 'u', 'e', 'm', 'v', 'x', 'b', 's', 'o', 'c', 't', 'k']\n",
      "\n"
     ]
    }
   ],
   "source": [
    "results = [];\n",
    "i = 0\n",
    "#codes = ['fghij', 'fghaj']\n",
    "length = len(codes[0])\n",
    "result_temp = []\n",
    "result = []\n",
    "while(i < length):\n",
    "    for single in codes:\n",
    "        r = single[i:i+1]\n",
    "        if not r in result_temp:\n",
    "            result_temp.append(r)\n",
    "            \n",
    "    if len(result_temp) == 1:\n",
    "        result = result + result_temp\n",
    "    print(result_temp)\n",
    "    \n",
    "    result_temp = []\n",
    "    i = i + 1\n",
    "    \n",
    "print(''.join(result))\n",
    "result = \"\"\n",
    "    \n",
    "\n",
    "    "
   ]
  },
  {
   "cell_type": "code",
   "execution_count": null,
   "metadata": {
    "collapsed": true
   },
   "outputs": [],
   "source": [
    "\n",
    "for single in codes:\n",
    "    i = 0\n",
    "    while(i < len(single)):\n",
    "        resutl_temp.append(single[:i+1])\n",
    "        print(single[:i+1])\n",
    "        \n",
    "        result_temp = [];\n",
    "        i = i + 1\n",
    "        "
   ]
  },
  {
   "cell_type": "code",
   "execution_count": null,
   "metadata": {
    "collapsed": true
   },
   "outputs": [],
   "source": [
    "for code in data.read().splitlines():\n",
    "    series = list(code)\n",
    "    results_temp = [];\n",
    "    for i in series:\n",
    "        c = series.count(i)\n",
    "        if c >= 2:\n",
    "            if not c in results_temp:\n",
    "                results_temp.append(c)\n",
    "                results.append(c)"
   ]
  }
 ],
 "metadata": {
  "kernelspec": {
   "display_name": "Python 3",
   "language": "python",
   "name": "python3"
  },
  "language_info": {
   "codemirror_mode": {
    "name": "ipython",
    "version": 3
   },
   "file_extension": ".py",
   "mimetype": "text/x-python",
   "name": "python",
   "nbconvert_exporter": "python",
   "pygments_lexer": "ipython3",
   "version": "3.6.2"
  }
 },
 "nbformat": 4,
 "nbformat_minor": 2
}
